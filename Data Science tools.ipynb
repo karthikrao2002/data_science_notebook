{
  "metadata": {
    "kernelspec": {
      "name": "python",
      "display_name": "Python (Pyodide)",
      "language": "python"
    },
    "language_info": {
      "codemirror_mode": {
        "name": "python",
        "version": 3
      },
      "file_extension": ".py",
      "mimetype": "text/x-python",
      "name": "python",
      "nbconvert_exporter": "python",
      "pygments_lexer": "ipython3",
      "version": "3.8"
    }
  },
  "nbformat_minor": 5,
  "nbformat": 4,
  "cells": [
    {
      "id": "43938868-a1ee-438c-99a0-5c6b217ef90b",
      "cell_type": "markdown",
      "source": "# Data Science Tools and Examples",
      "metadata": {}
    },
    {
      "id": "828268d3-e87d-4b77-ae2e-52123b6862a1",
      "cell_type": "code",
      "source": "## Introduction\n#|This notebook demonstrates basic arithmetic operations and showcases various data science tools, libraries, and languages.",
      "metadata": {
        "trusted": true
      },
      "outputs": [],
      "execution_count": 3
    },
    {
      "id": "ace1d2a4-280d-4ffb-9df6-362443bee999",
      "cell_type": "code",
      "source": "# Data Science Languages\n#1. Python\n#2. R\n#3. SQL",
      "metadata": {
        "trusted": true
      },
      "outputs": [],
      "execution_count": 7
    },
    {
      "id": "bd18e500-a3ac-4efd-8bd9-f2bcb29ec912",
      "cell_type": "code",
      "source": "## Data Science Libraries\n# 1. Pandas\n# 2. Numpy\n# 3. Matplotlib",
      "metadata": {
        "trusted": true
      },
      "outputs": [],
      "execution_count": 8
    },
    {
      "id": "956cfe8e-b330-47a4-b502-b5951dfa77bc",
      "cell_type": "code",
      "source": "## Data Science Tools\n# | Tool          | Purpose                    |\n# |---------------|----------------------------|\n# | Jupyter       | Interactive notebooks       |\n# | Pandas        | Data manipulation           |\n# | Matplotlib    | Data visualization          |\n# | Scikit-learn  | Machine learning            |\n",
      "metadata": {
        "trusted": true
      },
      "outputs": [],
      "execution_count": 10
    },
    {
      "id": "d0e8cbd3-eef7-4783-9bf7-080c451fc71b",
      "cell_type": "code",
      "source": "## Arithmetic Expressions\n# In this section, we will perform some basic arithmetic operations using Python.\n",
      "metadata": {
        "trusted": true
      },
      "outputs": [],
      "execution_count": 11
    },
    {
      "id": "807f13a2-d6df-4017-948d-a9cc0b9af611",
      "cell_type": "code",
      "source": "# Multiplying and adding numbers\nnum1 = 10\nnum2 = 20\nresult = num1 * num2 + 30\nresult\n",
      "metadata": {
        "trusted": true
      },
      "outputs": [
        {
          "execution_count": 12,
          "output_type": "execute_result",
          "data": {
            "text/plain": "230"
          },
          "metadata": {}
        }
      ],
      "execution_count": 12
    },
    {
      "id": "f41f7a0e-1ef6-4b3d-82f2-fc691d68f1fd",
      "cell_type": "code",
      "source": "# Converting minutes to hours\nminutes = 150\nhours = minutes / 60\nhours\n",
      "metadata": {
        "trusted": true
      },
      "outputs": [
        {
          "execution_count": 13,
          "output_type": "execute_result",
          "data": {
            "text/plain": "2.5"
          },
          "metadata": {}
        }
      ],
      "execution_count": 13
    },
    {
      "id": "7f822562-5b6f-42ed-9370-69a28053d2b6",
      "cell_type": "code",
      "source": "## Objectives\n# - Learn basic arithmetic operations in Python.\n# - Understand the tools and libraries used in data science.\n# - Apply basic data science operations in a Jupyterlite notebook.\n",
      "metadata": {
        "trusted": true
      },
      "outputs": [],
      "execution_count": 15
    },
    {
      "id": "210f7ee5-82b1-4b47-9a39-945d8a810234",
      "cell_type": "code",
      "source": "## Author Details\nName = \"G Karthik\"",
      "metadata": {
        "trusted": true
      },
      "outputs": [],
      "execution_count": 17
    },
    {
      "id": "b6cbba44-25ca-469a-8ceb-04dc7e4690da",
      "cell_type": "code",
      "source": "",
      "metadata": {
        "trusted": true
      },
      "outputs": [],
      "execution_count": null
    }
  ]
}